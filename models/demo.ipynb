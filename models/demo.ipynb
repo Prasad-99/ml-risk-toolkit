{
 "cells": [
  {
   "cell_type": "code",
   "execution_count": 16,
   "id": "c71646cf",
   "metadata": {},
   "outputs": [],
   "source": [
    "import pandas as pd\n",
    "import numpy as np\n",
    "\n",
    "np.random.seed(42)\n",
    "\n",
    "def generate_credit_default_data(n = 1000):\n",
    "    age = np.random.normal(40, 10, n).astype(int)\n",
    "    age[np.random.choice(n, size=20)] = np.random.randint(18, 90, 20) #inject Outliers\n",
    "\n",
    "    income = np.random.exponential(50000, n)\n",
    "    income[np.random.choice(n, size=30, replace=False)] = np.nan #inject values\n",
    "\n",
    "    loan_amount = (income * np.random.uniform(0.1, 0.5, n)).astype(float)\n",
    "    loan_amount += np.random.normal(0, 10000, n) #inject noise\n",
    "    loan_amount[np.random.choice(n, size=25, replace=False)] = np.nan #inject values\n",
    "\n",
    "    education = np.random.choice(['HighSchool', 'Graduate', 'PostGradute'], size=n, p=[0.5, 0.35, 0.15])\n",
    "\n",
    "    marital_status = np.random.choice(['Single', 'Married', 'Divorced', 'married'], size=n, p=[0.4, 0.4, 0.15, 0.05])\n",
    "\n",
    "    employment_status = np.random.choice(['Salaried', 'Self-Employed', 'Unemployed', None], size=n, p=[0.5, 0.3, 0.15, 0.05])\n",
    "\n",
    "    credit_score = np.random.normal(650, 50, n)\n",
    "    credit_score = np.clip(credit_score, 300, 850)\n",
    "\n",
    "    income_2 = income * 0.95 + np.random.normal(0, 5000, n) #inject noise\n",
    "\n",
    "    default = np.random.binomial(1, 0.2, n) # 20% default rate\n",
    "\n",
    "    df = pd.DataFrame({\n",
    "        'age': age,\n",
    "        'income': income,\n",
    "        'loan_amount': loan_amount,\n",
    "        'education': education,\n",
    "        'marital_status': marital_status,\n",
    "        'employment_status': employment_status,\n",
    "        'credit_score': credit_score,\n",
    "        'income_2': income_2,\n",
    "        'default': default\n",
    "    })\n",
    "\n",
    "    return df\n",
    "\n",
    "df_raw = generate_credit_default_data(1000)   "
   ]
  },
  {
   "cell_type": "code",
   "execution_count": 17,
   "id": "9484b8d1",
   "metadata": {},
   "outputs": [],
   "source": [
    "df_raw.to_csv('../data/raw/credit_default_data.csv', index=False)"
   ]
  },
  {
   "cell_type": "code",
   "execution_count": null,
   "id": "643f73a5",
   "metadata": {},
   "outputs": [],
   "source": []
  }
 ],
 "metadata": {
  "kernelspec": {
   "display_name": "base",
   "language": "python",
   "name": "python3"
  },
  "language_info": {
   "codemirror_mode": {
    "name": "ipython",
    "version": 3
   },
   "file_extension": ".py",
   "mimetype": "text/x-python",
   "name": "python",
   "nbconvert_exporter": "python",
   "pygments_lexer": "ipython3",
   "version": "3.12.7"
  }
 },
 "nbformat": 4,
 "nbformat_minor": 5
}
